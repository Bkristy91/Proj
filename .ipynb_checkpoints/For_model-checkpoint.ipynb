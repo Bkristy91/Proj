{
 "cells": [
  {
   "cell_type": "code",
   "execution_count": 1,
   "id": "e029314f",
   "metadata": {},
   "outputs": [],
   "source": [
    "import numpy as np\n",
    "import pandas as pd\n",
    "import random\n",
    "\n",
    "import matplotlib\n",
    "import matplotlib.image as img\n",
    "import matplotlib.pyplot as plt\n",
    "import seaborn as sns\n",
    "from scipy import stats\n",
    "\n",
    "from datetime import datetime\n",
    "\n",
    "import warnings\n",
    "warnings.filterwarnings('ignore')\n",
    "\n",
    "from sklearn.model_selection import train_test_split, cross_val_score\n",
    "\n",
    "# 3. Модели\n",
    "from sklearn.tree import DecisionTreeClassifier, plot_tree\n",
    "from sklearn.ensemble import RandomForestClassifier, GradientBoostingClassifier\n",
    "from sklearn.preprocessing import StandardScaler, RobustScaler\n",
    "from sklearn.model_selection import KFold, GridSearchCV\n",
    "from sklearn.model_selection import cross_val_predict\n",
    "\n",
    "# 4. Метрики качества\n",
    "from sklearn.metrics import mean_squared_error as mse, r2_score as r2\n",
    "from sklearn.metrics import confusion_matrix\n",
    "\n",
    "# 5. Для визуализации внешних картинок в ноутбуке\n",
    "from IPython.display import Image"
   ]
  },
  {
   "cell_type": "code",
   "execution_count": 2,
   "id": "9c636ea8",
   "metadata": {},
   "outputs": [],
   "source": [
    "%matplotlib inline"
   ]
  },
  {
   "cell_type": "code",
   "execution_count": 3,
   "id": "b0e4dbb2",
   "metadata": {},
   "outputs": [],
   "source": [
    "matplotlib.rcParams.update({'font.size': 12})  # размер шрифта на графиках"
   ]
  },
  {
   "cell_type": "markdown",
   "id": "0a38cf90",
   "metadata": {},
   "source": [
    "<H3> Загрузка данных"
   ]
  },
  {
   "cell_type": "code",
   "execution_count": 4,
   "id": "1f0914c9",
   "metadata": {},
   "outputs": [],
   "source": [
    "DATASET_PATH = './prepared.csv'\n",
    "\n",
    "\n",
    "df = pd.read_csv(DATASET_PATH, sep=';')"
   ]
  },
  {
   "cell_type": "code",
   "execution_count": 5,
   "id": "5348901b",
   "metadata": {
    "scrolled": false
   },
   "outputs": [
    {
     "data": {
      "text/html": [
       "<div>\n",
       "<style scoped>\n",
       "    .dataframe tbody tr th:only-of-type {\n",
       "        vertical-align: middle;\n",
       "    }\n",
       "\n",
       "    .dataframe tbody tr th {\n",
       "        vertical-align: top;\n",
       "    }\n",
       "\n",
       "    .dataframe thead th {\n",
       "        text-align: right;\n",
       "    }\n",
       "</style>\n",
       "<table border=\"1\" class=\"dataframe\">\n",
       "  <thead>\n",
       "    <tr style=\"text-align: right;\">\n",
       "      <th></th>\n",
       "      <th>Физическое лицо</th>\n",
       "      <th>Подразделение</th>\n",
       "      <th>Должность</th>\n",
       "      <th>Причина увольнения</th>\n",
       "      <th>Первая дата приема</th>\n",
       "      <th>Последняя дата приема</th>\n",
       "      <th>Последняя дата увольнения</th>\n",
       "      <th>Медиана между приемами</th>\n",
       "      <th>Длительность последнего рейса</th>\n",
       "      <th>Кол-во рейсов</th>\n",
       "      <th>...</th>\n",
       "      <th>город</th>\n",
       "      <th>населенный пункт</th>\n",
       "      <th>столица</th>\n",
       "      <th>Командный состав</th>\n",
       "      <th>Обслуживающий</th>\n",
       "      <th>Производство</th>\n",
       "      <th>Судовая команда</th>\n",
       "      <th>активная</th>\n",
       "      <th>нейтральная</th>\n",
       "      <th>пассивная</th>\n",
       "    </tr>\n",
       "  </thead>\n",
       "  <tbody>\n",
       "    <tr>\n",
       "      <th>0</th>\n",
       "      <td>Ёркина Виктория Александровна</td>\n",
       "      <td>ЮМРФ_Залив Восток ПЗ</td>\n",
       "      <td>Матрос 2 класса службы обработки рыбы</td>\n",
       "      <td>Истечение срока трудового договора, п2 ч1 ст77</td>\n",
       "      <td>2020-03-27</td>\n",
       "      <td>2020-03-27</td>\n",
       "      <td>2020-09-10</td>\n",
       "      <td>0.0</td>\n",
       "      <td>167.0</td>\n",
       "      <td>1</td>\n",
       "      <td>...</td>\n",
       "      <td>1</td>\n",
       "      <td>0</td>\n",
       "      <td>0</td>\n",
       "      <td>0</td>\n",
       "      <td>0</td>\n",
       "      <td>1</td>\n",
       "      <td>0</td>\n",
       "      <td>0</td>\n",
       "      <td>1</td>\n",
       "      <td>0</td>\n",
       "    </tr>\n",
       "    <tr>\n",
       "      <th>1</th>\n",
       "      <td>АЛИ ИМРОН</td>\n",
       "      <td>ЮМРФ_Всеволод Сибирцев КРКПБ</td>\n",
       "      <td>Обработчик рыбы</td>\n",
       "      <td>Истечение срока трудового договора, п2 ч1 ст77</td>\n",
       "      <td>2016-05-30</td>\n",
       "      <td>2016-05-30</td>\n",
       "      <td>2017-04-17</td>\n",
       "      <td>0.0</td>\n",
       "      <td>322.0</td>\n",
       "      <td>1</td>\n",
       "      <td>...</td>\n",
       "      <td>1</td>\n",
       "      <td>0</td>\n",
       "      <td>0</td>\n",
       "      <td>0</td>\n",
       "      <td>0</td>\n",
       "      <td>1</td>\n",
       "      <td>0</td>\n",
       "      <td>0</td>\n",
       "      <td>1</td>\n",
       "      <td>0</td>\n",
       "    </tr>\n",
       "    <tr>\n",
       "      <th>2</th>\n",
       "      <td>Абаев Дмитрий Анатольевич</td>\n",
       "      <td>ЮМРФ_Залив Восток ПЗ</td>\n",
       "      <td>Матрос-обработчик</td>\n",
       "      <td>Истечение срока трудового договора, п2 ч1 ст77</td>\n",
       "      <td>2015-06-22</td>\n",
       "      <td>2015-06-22</td>\n",
       "      <td>2015-08-26</td>\n",
       "      <td>0.0</td>\n",
       "      <td>65.0</td>\n",
       "      <td>1</td>\n",
       "      <td>...</td>\n",
       "      <td>0</td>\n",
       "      <td>1</td>\n",
       "      <td>0</td>\n",
       "      <td>0</td>\n",
       "      <td>0</td>\n",
       "      <td>1</td>\n",
       "      <td>0</td>\n",
       "      <td>0</td>\n",
       "      <td>1</td>\n",
       "      <td>0</td>\n",
       "    </tr>\n",
       "  </tbody>\n",
       "</table>\n",
       "<p>3 rows × 38 columns</p>\n",
       "</div>"
      ],
      "text/plain": [
       "                 Физическое лицо                 Подразделение  \\\n",
       "0  Ёркина Виктория Александровна          ЮМРФ_Залив Восток ПЗ   \n",
       "1                      АЛИ ИМРОН  ЮМРФ_Всеволод Сибирцев КРКПБ   \n",
       "2      Абаев Дмитрий Анатольевич          ЮМРФ_Залив Восток ПЗ   \n",
       "\n",
       "                               Должность  \\\n",
       "0  Матрос 2 класса службы обработки рыбы   \n",
       "1                        Обработчик рыбы   \n",
       "2                      Матрос-обработчик   \n",
       "\n",
       "                               Причина увольнения Первая дата приема  \\\n",
       "0  Истечение срока трудового договора, п2 ч1 ст77         2020-03-27   \n",
       "1  Истечение срока трудового договора, п2 ч1 ст77         2016-05-30   \n",
       "2  Истечение срока трудового договора, п2 ч1 ст77         2015-06-22   \n",
       "\n",
       "  Последняя дата приема Последняя дата увольнения  Медиана между приемами  \\\n",
       "0            2020-03-27                2020-09-10                     0.0   \n",
       "1            2016-05-30                2017-04-17                     0.0   \n",
       "2            2015-06-22                2015-08-26                     0.0   \n",
       "\n",
       "   Длительность последнего рейса  Кол-во рейсов  ...  город  населенный пункт  \\\n",
       "0                          167.0              1  ...      1                 0   \n",
       "1                          322.0              1  ...      1                 0   \n",
       "2                           65.0              1  ...      0                 1   \n",
       "\n",
       "   столица  Командный состав  Обслуживающий  Производство  Судовая команда  \\\n",
       "0        0                 0              0             1                0   \n",
       "1        0                 0              0             1                0   \n",
       "2        0                 0              0             1                0   \n",
       "\n",
       "   активная  нейтральная  пассивная  \n",
       "0         0            1          0  \n",
       "1         0            1          0  \n",
       "2         0            1          0  \n",
       "\n",
       "[3 rows x 38 columns]"
      ]
     },
     "execution_count": 5,
     "metadata": {},
     "output_type": "execute_result"
    }
   ],
   "source": [
    "df.head(3)"
   ]
  },
  {
   "cell_type": "code",
   "execution_count": 6,
   "id": "f2d9e3ad",
   "metadata": {
    "scrolled": true
   },
   "outputs": [
    {
     "name": "stdout",
     "output_type": "stream",
     "text": [
      "<class 'pandas.core.frame.DataFrame'>\n",
      "RangeIndex: 6124 entries, 0 to 6123\n",
      "Data columns (total 38 columns):\n",
      " #   Column                         Non-Null Count  Dtype  \n",
      "---  ------                         --------------  -----  \n",
      " 0   Физическое лицо                6124 non-null   object \n",
      " 1   Подразделение                  6124 non-null   object \n",
      " 2   Должность                      6124 non-null   object \n",
      " 3   Причина увольнения             5870 non-null   object \n",
      " 4   Первая дата приема             6124 non-null   object \n",
      " 5   Последняя дата приема          6124 non-null   object \n",
      " 6   Последняя дата увольнения      6124 non-null   object \n",
      " 7   Медиана между приемами         6124 non-null   float64\n",
      " 8   Длительность последнего рейса  6124 non-null   float64\n",
      " 9   Кол-во рейсов                  6124 non-null   int64  \n",
      " 10  Возраст                        6124 non-null   int64  \n",
      " 11  Target                         6124 non-null   int64  \n",
      " 12  женский                        6124 non-null   int64  \n",
      " 13  мужской                        6124 non-null   int64  \n",
      " 14  добывающее судно               6124 non-null   int64  \n",
      " 15  плавбаза                       6124 non-null   int64  \n",
      " 16  траспортное                    6124 non-null   int64  \n",
      " 17  Беларусь                       6124 non-null   int64  \n",
      " 18  ДВФО                           6124 non-null   int64  \n",
      " 19  Индонезия                      6124 non-null   int64  \n",
      " 20  ПФО                            6124 non-null   int64  \n",
      " 21  СЗФО                           6124 non-null   int64  \n",
      " 22  СКФО                           6124 non-null   int64  \n",
      " 23  СФО                            6124 non-null   int64  \n",
      " 24  УФО                            6124 non-null   int64  \n",
      " 25  Украина                        6124 non-null   int64  \n",
      " 26  ЦФО                            6124 non-null   int64  \n",
      " 27  ЮФО                            6124 non-null   int64  \n",
      " 28  город                          6124 non-null   int64  \n",
      " 29  населенный пункт               6124 non-null   int64  \n",
      " 30  столица                        6124 non-null   int64  \n",
      " 31  Командный состав               6124 non-null   int64  \n",
      " 32  Обслуживающий                  6124 non-null   int64  \n",
      " 33  Производство                   6124 non-null   int64  \n",
      " 34  Судовая команда                6124 non-null   int64  \n",
      " 35  активная                       6124 non-null   int64  \n",
      " 36  нейтральная                    6124 non-null   int64  \n",
      " 37  пассивная                      6124 non-null   int64  \n",
      "dtypes: float64(2), int64(29), object(7)\n",
      "memory usage: 1.8+ MB\n"
     ]
    }
   ],
   "source": [
    "df.info()"
   ]
  },
  {
   "cell_type": "code",
   "execution_count": 7,
   "id": "7c577070",
   "metadata": {},
   "outputs": [
    {
     "data": {
      "text/plain": [
       "0    3872\n",
       "1    2252\n",
       "Name: Target, dtype: int64"
      ]
     },
     "execution_count": 7,
     "metadata": {},
     "output_type": "execute_result"
    }
   ],
   "source": [
    "df['Target'].value_counts()"
   ]
  },
  {
   "cell_type": "markdown",
   "id": "d40ec03c",
   "metadata": {},
   "source": [
    "<h2> Разбиение на train / test "
   ]
  },
  {
   "cell_type": "code",
   "execution_count": 8,
   "id": "097abd2a",
   "metadata": {
    "scrolled": true
   },
   "outputs": [
    {
     "data": {
      "text/plain": [
       "Int64Index([3118, 1841,  919, 4596, 2690, 4052, 1800, 5295, 4242, 2126,\n",
       "            ...\n",
       "            5698, 4149, 1890, 6068,  350, 6026,   79, 3927, 5955, 5640],\n",
       "           dtype='int64', length=4103)"
      ]
     },
     "execution_count": 8,
     "metadata": {},
     "output_type": "execute_result"
    }
   ],
   "source": [
    "X = df.drop(columns='Target')\n",
    "y = df['Target']\n",
    "\n",
    "X_train, X_test, y_train, y_test = train_test_split(X, y, test_size=0.33, shuffle=True, random_state=100)\n",
    "X_train.index"
   ]
  },
  {
   "cell_type": "code",
   "execution_count": 9,
   "id": "b03f2970",
   "metadata": {},
   "outputs": [
    {
     "data": {
      "text/plain": [
       "0    2608\n",
       "1    1495\n",
       "Name: Target, dtype: int64"
      ]
     },
     "execution_count": 9,
     "metadata": {},
     "output_type": "execute_result"
    }
   ],
   "source": [
    "y_train.value_counts()"
   ]
  },
  {
   "cell_type": "code",
   "execution_count": 10,
   "id": "92f3e3f2",
   "metadata": {},
   "outputs": [
    {
     "data": {
      "text/plain": [
       "0    1264\n",
       "1     757\n",
       "Name: Target, dtype: int64"
      ]
     },
     "execution_count": 10,
     "metadata": {},
     "output_type": "execute_result"
    }
   ],
   "source": [
    "y_test.value_counts()"
   ]
  },
  {
   "cell_type": "markdown",
   "id": "715e05ea",
   "metadata": {},
   "source": [
    "**Оставим признаки, которые необходимы для модели**"
   ]
  },
  {
   "cell_type": "code",
   "execution_count": 11,
   "id": "495d04fc",
   "metadata": {},
   "outputs": [
    {
     "data": {
      "text/plain": [
       "['Физическое лицо',\n",
       " 'Подразделение',\n",
       " 'Должность',\n",
       " 'Причина увольнения',\n",
       " 'Первая дата приема',\n",
       " 'Последняя дата приема',\n",
       " 'Последняя дата увольнения',\n",
       " 'Медиана между приемами',\n",
       " 'Длительность последнего рейса',\n",
       " 'Кол-во рейсов',\n",
       " 'Возраст',\n",
       " 'женский',\n",
       " 'мужской',\n",
       " 'добывающее судно',\n",
       " 'плавбаза',\n",
       " 'траспортное',\n",
       " 'Беларусь',\n",
       " 'ДВФО',\n",
       " 'Индонезия',\n",
       " 'ПФО',\n",
       " 'СЗФО',\n",
       " 'СКФО',\n",
       " 'СФО',\n",
       " 'УФО',\n",
       " 'Украина',\n",
       " 'ЦФО',\n",
       " 'ЮФО',\n",
       " 'город',\n",
       " 'населенный пункт',\n",
       " 'столица',\n",
       " 'Командный состав',\n",
       " 'Обслуживающий',\n",
       " 'Производство',\n",
       " 'Судовая команда',\n",
       " 'активная',\n",
       " 'нейтральная',\n",
       " 'пассивная']"
      ]
     },
     "execution_count": 11,
     "metadata": {},
     "output_type": "execute_result"
    }
   ],
   "source": [
    "X_train.columns.tolist()"
   ]
  },
  {
   "cell_type": "code",
   "execution_count": 12,
   "id": "3eec1e2c",
   "metadata": {},
   "outputs": [],
   "source": [
    "feature_names = [#'Медиана между приемами',\n",
    "     'Длительность последнего рейса',\n",
    "     'Возраст',\n",
    "     'город', 'населенный пункт', 'столица',\n",
    "     'женский',\n",
    "     'мужской',\n",
    "     'добывающее судно',\n",
    "     'плавбаза',\n",
    "     'траспортное',\n",
    "     #'Беларусь',\n",
    "     #'ДВФО',\n",
    "     #'ПФО',\n",
    "     #'СЗФО',\n",
    "     #'СКФО',\n",
    "     #'СФО',\n",
    "     #'УФО',\n",
    "     #'Украина',\n",
    "     #'ЦФО',\n",
    "     #'ЮФО',\n",
    "     'Командный состав',\n",
    "     'Обслуживающий',\n",
    "     'Производство',\n",
    "     'Судовая команда',\n",
    "     'активная',\n",
    "     'нейтральная',\n",
    "     'пассивная']\n",
    "\n",
    "target_name = 'Target'"
   ]
  },
  {
   "cell_type": "code",
   "execution_count": 13,
   "id": "722809e2",
   "metadata": {},
   "outputs": [
    {
     "data": {
      "text/html": [
       "<div>\n",
       "<style scoped>\n",
       "    .dataframe tbody tr th:only-of-type {\n",
       "        vertical-align: middle;\n",
       "    }\n",
       "\n",
       "    .dataframe tbody tr th {\n",
       "        vertical-align: top;\n",
       "    }\n",
       "\n",
       "    .dataframe thead th {\n",
       "        text-align: right;\n",
       "    }\n",
       "</style>\n",
       "<table border=\"1\" class=\"dataframe\">\n",
       "  <thead>\n",
       "    <tr style=\"text-align: right;\">\n",
       "      <th></th>\n",
       "      <th>Длительность последнего рейса</th>\n",
       "      <th>Возраст</th>\n",
       "      <th>город</th>\n",
       "      <th>населенный пункт</th>\n",
       "      <th>столица</th>\n",
       "      <th>женский</th>\n",
       "      <th>мужской</th>\n",
       "      <th>добывающее судно</th>\n",
       "      <th>плавбаза</th>\n",
       "      <th>траспортное</th>\n",
       "      <th>Командный состав</th>\n",
       "      <th>Обслуживающий</th>\n",
       "      <th>Производство</th>\n",
       "      <th>Судовая команда</th>\n",
       "      <th>активная</th>\n",
       "      <th>нейтральная</th>\n",
       "      <th>пассивная</th>\n",
       "    </tr>\n",
       "  </thead>\n",
       "  <tbody>\n",
       "    <tr>\n",
       "      <th>3118</th>\n",
       "      <td>232.0</td>\n",
       "      <td>42</td>\n",
       "      <td>1</td>\n",
       "      <td>0</td>\n",
       "      <td>0</td>\n",
       "      <td>1</td>\n",
       "      <td>0</td>\n",
       "      <td>0</td>\n",
       "      <td>1</td>\n",
       "      <td>0</td>\n",
       "      <td>0</td>\n",
       "      <td>0</td>\n",
       "      <td>1</td>\n",
       "      <td>0</td>\n",
       "      <td>0</td>\n",
       "      <td>0</td>\n",
       "      <td>1</td>\n",
       "    </tr>\n",
       "    <tr>\n",
       "      <th>1841</th>\n",
       "      <td>6.0</td>\n",
       "      <td>45</td>\n",
       "      <td>0</td>\n",
       "      <td>1</td>\n",
       "      <td>0</td>\n",
       "      <td>0</td>\n",
       "      <td>1</td>\n",
       "      <td>1</td>\n",
       "      <td>0</td>\n",
       "      <td>0</td>\n",
       "      <td>0</td>\n",
       "      <td>1</td>\n",
       "      <td>0</td>\n",
       "      <td>0</td>\n",
       "      <td>0</td>\n",
       "      <td>0</td>\n",
       "      <td>1</td>\n",
       "    </tr>\n",
       "    <tr>\n",
       "      <th>919</th>\n",
       "      <td>213.0</td>\n",
       "      <td>23</td>\n",
       "      <td>1</td>\n",
       "      <td>0</td>\n",
       "      <td>0</td>\n",
       "      <td>0</td>\n",
       "      <td>1</td>\n",
       "      <td>1</td>\n",
       "      <td>0</td>\n",
       "      <td>0</td>\n",
       "      <td>1</td>\n",
       "      <td>0</td>\n",
       "      <td>0</td>\n",
       "      <td>0</td>\n",
       "      <td>0</td>\n",
       "      <td>1</td>\n",
       "      <td>0</td>\n",
       "    </tr>\n",
       "    <tr>\n",
       "      <th>4596</th>\n",
       "      <td>132.0</td>\n",
       "      <td>33</td>\n",
       "      <td>1</td>\n",
       "      <td>0</td>\n",
       "      <td>0</td>\n",
       "      <td>0</td>\n",
       "      <td>1</td>\n",
       "      <td>0</td>\n",
       "      <td>1</td>\n",
       "      <td>0</td>\n",
       "      <td>0</td>\n",
       "      <td>0</td>\n",
       "      <td>1</td>\n",
       "      <td>0</td>\n",
       "      <td>0</td>\n",
       "      <td>0</td>\n",
       "      <td>1</td>\n",
       "    </tr>\n",
       "    <tr>\n",
       "      <th>2690</th>\n",
       "      <td>12.0</td>\n",
       "      <td>43</td>\n",
       "      <td>0</td>\n",
       "      <td>0</td>\n",
       "      <td>1</td>\n",
       "      <td>0</td>\n",
       "      <td>1</td>\n",
       "      <td>0</td>\n",
       "      <td>1</td>\n",
       "      <td>0</td>\n",
       "      <td>0</td>\n",
       "      <td>0</td>\n",
       "      <td>1</td>\n",
       "      <td>0</td>\n",
       "      <td>0</td>\n",
       "      <td>0</td>\n",
       "      <td>1</td>\n",
       "    </tr>\n",
       "  </tbody>\n",
       "</table>\n",
       "</div>"
      ],
      "text/plain": [
       "      Длительность последнего рейса  Возраст  город  населенный пункт  \\\n",
       "3118                          232.0       42      1                 0   \n",
       "1841                            6.0       45      0                 1   \n",
       "919                           213.0       23      1                 0   \n",
       "4596                          132.0       33      1                 0   \n",
       "2690                           12.0       43      0                 0   \n",
       "\n",
       "      столица  женский  мужской  добывающее судно  плавбаза  траспортное  \\\n",
       "3118        0        1        0                 0         1            0   \n",
       "1841        0        0        1                 1         0            0   \n",
       "919         0        0        1                 1         0            0   \n",
       "4596        0        0        1                 0         1            0   \n",
       "2690        1        0        1                 0         1            0   \n",
       "\n",
       "      Командный состав  Обслуживающий  Производство  Судовая команда  \\\n",
       "3118                 0              0             1                0   \n",
       "1841                 0              1             0                0   \n",
       "919                  1              0             0                0   \n",
       "4596                 0              0             1                0   \n",
       "2690                 0              0             1                0   \n",
       "\n",
       "      активная  нейтральная  пассивная  \n",
       "3118         0            0          1  \n",
       "1841         0            0          1  \n",
       "919          0            1          0  \n",
       "4596         0            0          1  \n",
       "2690         0            0          1  "
      ]
     },
     "execution_count": 13,
     "metadata": {},
     "output_type": "execute_result"
    }
   ],
   "source": [
    "X_train = X_train[feature_names]\n",
    "X_test = X_test[feature_names]\n",
    "\n",
    "X_train.head()"
   ]
  },
  {
   "cell_type": "markdown",
   "id": "0ea31058",
   "metadata": {},
   "source": [
    "**Стандартизация признаков** "
   ]
  },
  {
   "cell_type": "code",
   "execution_count": 14,
   "id": "00b9e1b5",
   "metadata": {
    "scrolled": true
   },
   "outputs": [
    {
     "data": {
      "text/plain": [
       "['Длительность последнего рейса',\n",
       " 'Возраст',\n",
       " 'город',\n",
       " 'населенный пункт',\n",
       " 'столица',\n",
       " 'женский',\n",
       " 'мужской',\n",
       " 'добывающее судно',\n",
       " 'плавбаза',\n",
       " 'траспортное',\n",
       " 'Командный состав',\n",
       " 'Обслуживающий',\n",
       " 'Производство',\n",
       " 'Судовая команда',\n",
       " 'активная',\n",
       " 'нейтральная',\n",
       " 'пассивная']"
      ]
     },
     "execution_count": 14,
     "metadata": {},
     "output_type": "execute_result"
    }
   ],
   "source": [
    "feature_names_for_stand = X_train.select_dtypes(include=['float64', 'int64']).columns.tolist()\n",
    "feature_names_for_stand"
   ]
  },
  {
   "cell_type": "markdown",
   "id": "821458f3",
   "metadata": {},
   "source": [
    "**Нормализация** - MinMaxScaler() Для каждой фичи x делает:\n",
    "$$\\frac{x_i - min}{max - min}$$\n",
    "После нормализации признак будет изменяться в диапазоне [0, 1].<br>\n",
    "Лучше зарекомендовала себя в моделях, которые работают с расстояниями (KNN).\n",
    "\n",
    "<br>\n",
    "\n",
    "**Стандартизация** - StandardScaler(). Для каждой фичи х делает:\n",
    "$$\\frac{x - mean}{std}$$\n",
    "После стандартизации у признака будут mean = 0, std = 1.<br>\n",
    "Лучше зарекомендовала себя в линейных моделях."
   ]
  },
  {
   "cell_type": "code",
   "execution_count": 15,
   "id": "9ef1b209",
   "metadata": {},
   "outputs": [],
   "source": [
    "scaler = StandardScaler()\n",
    "\n",
    "stand_features_train = scaler.fit_transform(X_train[feature_names_for_stand])\n",
    "stand_features_test = scaler.transform(X_test[feature_names_for_stand])"
   ]
  },
  {
   "cell_type": "code",
   "execution_count": 16,
   "id": "794da1a2",
   "metadata": {},
   "outputs": [
    {
     "data": {
      "text/plain": [
       "array([[ 0.24601231, -0.03235257,  1.19792105, ..., -0.59320702,\n",
       "        -1.30974053,  2.87434358],\n",
       "       [-0.94835517,  0.20943721, -0.83477956, ..., -0.59320702,\n",
       "        -1.30974053,  2.87434358],\n",
       "       [ 0.14560088, -1.56368781,  1.19792105, ..., -0.59320702,\n",
       "         0.76351001, -0.34790552],\n",
       "       ...,\n",
       "       [ 0.11389201, -1.48309122,  1.19792105, ..., -0.59320702,\n",
       "         0.76351001, -0.34790552],\n",
       "       [-0.34060181, -0.27414234, -0.83477956, ..., -0.59320702,\n",
       "         0.76351001, -0.34790552],\n",
       "       [-0.89550705,  1.33778949,  1.19792105, ..., -0.59320702,\n",
       "        -1.30974053,  2.87434358]])"
      ]
     },
     "execution_count": 16,
     "metadata": {},
     "output_type": "execute_result"
    }
   ],
   "source": [
    "stand_features_train"
   ]
  },
  {
   "cell_type": "code",
   "execution_count": 17,
   "id": "5550b381",
   "metadata": {},
   "outputs": [],
   "source": [
    "X_train[feature_names_for_stand] = stand_features_train\n",
    "X_test[feature_names_for_stand] = stand_features_test"
   ]
  },
  {
   "cell_type": "code",
   "execution_count": 18,
   "id": "3bd31731",
   "metadata": {},
   "outputs": [
    {
     "data": {
      "text/html": [
       "<div>\n",
       "<style scoped>\n",
       "    .dataframe tbody tr th:only-of-type {\n",
       "        vertical-align: middle;\n",
       "    }\n",
       "\n",
       "    .dataframe tbody tr th {\n",
       "        vertical-align: top;\n",
       "    }\n",
       "\n",
       "    .dataframe thead th {\n",
       "        text-align: right;\n",
       "    }\n",
       "</style>\n",
       "<table border=\"1\" class=\"dataframe\">\n",
       "  <thead>\n",
       "    <tr style=\"text-align: right;\">\n",
       "      <th></th>\n",
       "      <th>Длительность последнего рейса</th>\n",
       "      <th>Возраст</th>\n",
       "      <th>город</th>\n",
       "      <th>населенный пункт</th>\n",
       "      <th>столица</th>\n",
       "      <th>женский</th>\n",
       "      <th>мужской</th>\n",
       "      <th>добывающее судно</th>\n",
       "      <th>плавбаза</th>\n",
       "      <th>траспортное</th>\n",
       "      <th>Командный состав</th>\n",
       "      <th>Обслуживающий</th>\n",
       "      <th>Производство</th>\n",
       "      <th>Судовая команда</th>\n",
       "      <th>активная</th>\n",
       "      <th>нейтральная</th>\n",
       "      <th>пассивная</th>\n",
       "    </tr>\n",
       "  </thead>\n",
       "  <tbody>\n",
       "    <tr>\n",
       "      <th>3118</th>\n",
       "      <td>0.246012</td>\n",
       "      <td>-0.032353</td>\n",
       "      <td>1.197921</td>\n",
       "      <td>-0.775151</td>\n",
       "      <td>-0.521774</td>\n",
       "      <td>2.444973</td>\n",
       "      <td>-2.444973</td>\n",
       "      <td>-0.692935</td>\n",
       "      <td>0.976632</td>\n",
       "      <td>-0.442562</td>\n",
       "      <td>-0.497485</td>\n",
       "      <td>-0.219746</td>\n",
       "      <td>1.030944</td>\n",
       "      <td>-0.609363</td>\n",
       "      <td>-0.593207</td>\n",
       "      <td>-1.309741</td>\n",
       "      <td>2.874344</td>\n",
       "    </tr>\n",
       "    <tr>\n",
       "      <th>1841</th>\n",
       "      <td>-0.948355</td>\n",
       "      <td>0.209437</td>\n",
       "      <td>-0.834780</td>\n",
       "      <td>1.290072</td>\n",
       "      <td>-0.521774</td>\n",
       "      <td>-0.409003</td>\n",
       "      <td>0.409003</td>\n",
       "      <td>1.443137</td>\n",
       "      <td>-1.023927</td>\n",
       "      <td>-0.442562</td>\n",
       "      <td>-0.497485</td>\n",
       "      <td>4.550714</td>\n",
       "      <td>-0.969985</td>\n",
       "      <td>-0.609363</td>\n",
       "      <td>-0.593207</td>\n",
       "      <td>-1.309741</td>\n",
       "      <td>2.874344</td>\n",
       "    </tr>\n",
       "    <tr>\n",
       "      <th>919</th>\n",
       "      <td>0.145601</td>\n",
       "      <td>-1.563688</td>\n",
       "      <td>1.197921</td>\n",
       "      <td>-0.775151</td>\n",
       "      <td>-0.521774</td>\n",
       "      <td>-0.409003</td>\n",
       "      <td>0.409003</td>\n",
       "      <td>1.443137</td>\n",
       "      <td>-1.023927</td>\n",
       "      <td>-0.442562</td>\n",
       "      <td>2.010110</td>\n",
       "      <td>-0.219746</td>\n",
       "      <td>-0.969985</td>\n",
       "      <td>-0.609363</td>\n",
       "      <td>-0.593207</td>\n",
       "      <td>0.763510</td>\n",
       "      <td>-0.347906</td>\n",
       "    </tr>\n",
       "    <tr>\n",
       "      <th>4596</th>\n",
       "      <td>-0.282469</td>\n",
       "      <td>-0.757722</td>\n",
       "      <td>1.197921</td>\n",
       "      <td>-0.775151</td>\n",
       "      <td>-0.521774</td>\n",
       "      <td>-0.409003</td>\n",
       "      <td>0.409003</td>\n",
       "      <td>-0.692935</td>\n",
       "      <td>0.976632</td>\n",
       "      <td>-0.442562</td>\n",
       "      <td>-0.497485</td>\n",
       "      <td>-0.219746</td>\n",
       "      <td>1.030944</td>\n",
       "      <td>-0.609363</td>\n",
       "      <td>-0.593207</td>\n",
       "      <td>-1.309741</td>\n",
       "      <td>2.874344</td>\n",
       "    </tr>\n",
       "    <tr>\n",
       "      <th>2690</th>\n",
       "      <td>-0.916646</td>\n",
       "      <td>0.048244</td>\n",
       "      <td>-0.834780</td>\n",
       "      <td>-0.775151</td>\n",
       "      <td>1.916539</td>\n",
       "      <td>-0.409003</td>\n",
       "      <td>0.409003</td>\n",
       "      <td>-0.692935</td>\n",
       "      <td>0.976632</td>\n",
       "      <td>-0.442562</td>\n",
       "      <td>-0.497485</td>\n",
       "      <td>-0.219746</td>\n",
       "      <td>1.030944</td>\n",
       "      <td>-0.609363</td>\n",
       "      <td>-0.593207</td>\n",
       "      <td>-1.309741</td>\n",
       "      <td>2.874344</td>\n",
       "    </tr>\n",
       "  </tbody>\n",
       "</table>\n",
       "</div>"
      ],
      "text/plain": [
       "      Длительность последнего рейса   Возраст     город  населенный пункт  \\\n",
       "3118                       0.246012 -0.032353  1.197921         -0.775151   \n",
       "1841                      -0.948355  0.209437 -0.834780          1.290072   \n",
       "919                        0.145601 -1.563688  1.197921         -0.775151   \n",
       "4596                      -0.282469 -0.757722  1.197921         -0.775151   \n",
       "2690                      -0.916646  0.048244 -0.834780         -0.775151   \n",
       "\n",
       "       столица   женский   мужской  добывающее судно  плавбаза  траспортное  \\\n",
       "3118 -0.521774  2.444973 -2.444973         -0.692935  0.976632    -0.442562   \n",
       "1841 -0.521774 -0.409003  0.409003          1.443137 -1.023927    -0.442562   \n",
       "919  -0.521774 -0.409003  0.409003          1.443137 -1.023927    -0.442562   \n",
       "4596 -0.521774 -0.409003  0.409003         -0.692935  0.976632    -0.442562   \n",
       "2690  1.916539 -0.409003  0.409003         -0.692935  0.976632    -0.442562   \n",
       "\n",
       "      Командный состав  Обслуживающий  Производство  Судовая команда  \\\n",
       "3118         -0.497485      -0.219746      1.030944        -0.609363   \n",
       "1841         -0.497485       4.550714     -0.969985        -0.609363   \n",
       "919           2.010110      -0.219746     -0.969985        -0.609363   \n",
       "4596         -0.497485      -0.219746      1.030944        -0.609363   \n",
       "2690         -0.497485      -0.219746      1.030944        -0.609363   \n",
       "\n",
       "      активная  нейтральная  пассивная  \n",
       "3118 -0.593207    -1.309741   2.874344  \n",
       "1841 -0.593207    -1.309741   2.874344  \n",
       "919  -0.593207     0.763510  -0.347906  \n",
       "4596 -0.593207    -1.309741   2.874344  \n",
       "2690 -0.593207    -1.309741   2.874344  "
      ]
     },
     "execution_count": 18,
     "metadata": {},
     "output_type": "execute_result"
    }
   ],
   "source": [
    "X_train.head()"
   ]
  },
  {
   "cell_type": "markdown",
   "id": "72480f80",
   "metadata": {},
   "source": [
    "# Построение моделей <a class='anchor' id='model'>"
   ]
  },
  {
   "cell_type": "markdown",
   "id": "bb359173",
   "metadata": {},
   "source": [
    "    \n",
    "ML метрика - Mean Squared Error (**MSE**) \n",
    "    - MSE прямопропорциональна RMSE и R^2\n",
    "    - MSE  удобно оптимизировать (брать производные)\n",
    "    - MSE используется \"под капотом\" наших ML моделей\n",
    "\n",
    "\n",
    "\n",
    "Бизнес метрика - **R^2**, Root Mean Squared Error (**RMSE**)\n",
    "    - Бизнес метрика интерпретируема\n",
    "    - Понятна бизнесу\n",
    "    - Ее мы показываем бизнесу\n",
    "    - RMSE - насколько, в среднем, $ мы ошибаемся при предсказании цен \n",
    "    - R^2 принимает значения от 0 до 1, если 1 - все предсказания идеальны. Можно сказать, что это \"точность\" модели\n",
    "\n",
    "Лучшая модель - модель с наименьшей MSE на test "
   ]
  },
  {
   "cell_type": "code",
   "execution_count": 19,
   "id": "3d2744f7",
   "metadata": {},
   "outputs": [],
   "source": [
    "def evaluate_preds(true_values, pred_values, save=False):\n",
    "    \"\"\"Оценка качества модели и график preds vs true\"\"\"\n",
    "    \n",
    "    print(\"R2:\\t\" + str(round(r2(true_values, pred_values), 3)) + \"\\n\" +\n",
    "          \"RMSE:\\t\" + str(round(np.sqrt(mse(true_values, pred_values)), 3)) + \"\\n\" +\n",
    "          \"MSE:\\t\" + str(round(mse(true_values, pred_values), 3))\n",
    "         )"
   ]
  },
  {
   "cell_type": "markdown",
   "id": "3a9b3183",
   "metadata": {},
   "source": [
    "Дерево решений"
   ]
  },
  {
   "cell_type": "code",
   "execution_count": 79,
   "id": "347c0082",
   "metadata": {},
   "outputs": [
    {
     "data": {
      "text/plain": [
       "DecisionTreeClassifier(criterion='entropy', max_depth=3, max_features=5,\n",
       "                       random_state=42)"
      ]
     },
     "execution_count": 79,
     "metadata": {},
     "output_type": "execute_result"
    }
   ],
   "source": [
    "dt_model = DecisionTreeClassifier(criterion = 'entropy', \n",
    "                                 max_depth = 3, # глубина дерева  \n",
    "                                 #min_samples_split = 20, # минимальное кол-во наблюдений в листе дерева\n",
    "                                 #min_samples_leaf = 20,\n",
    "                                 max_features = 5,\n",
    "                                 random_state = 42)\n",
    "dt_model.fit(X_train, y_train)"
   ]
  },
  {
   "cell_type": "code",
   "execution_count": 80,
   "id": "e404e119",
   "metadata": {
    "scrolled": true
   },
   "outputs": [
    {
     "name": "stdout",
     "output_type": "stream",
     "text": [
      "R2:\t-0.599\n",
      "RMSE:\t0.612\n",
      "MSE:\t0.375\n"
     ]
    }
   ],
   "source": [
    "y_test_preds = dt_model.predict(X_test)\n",
    "evaluate_preds(y_test, y_test_preds)\n"
   ]
  },
  {
   "cell_type": "code",
   "execution_count": 81,
   "id": "a4e2277d",
   "metadata": {},
   "outputs": [
    {
     "name": "stdout",
     "output_type": "stream",
     "text": [
      "[[2608    0]\n",
      " [1495    0]]\n"
     ]
    }
   ],
   "source": [
    "#y_train_preds = cross_val_predict(dt_model, X_train, y_train, cv=3)\n",
    "y_train_preds = dt_model.predict(X_train)\n",
    "print(confusion_matrix(y_train, y_train_preds))"
   ]
  },
  {
   "cell_type": "code",
   "execution_count": 82,
   "id": "4bfc099a",
   "metadata": {},
   "outputs": [
    {
     "name": "stdout",
     "output_type": "stream",
     "text": [
      "[[1199   65]\n",
      " [ 706   51]]\n"
     ]
    }
   ],
   "source": [
    "y_test_preds = cross_val_predict(dt_model, X_test, y_test, cv=3)\n",
    "print(confusion_matrix(y_test, y_test_preds))"
   ]
  },
  {
   "cell_type": "code",
   "execution_count": 87,
   "id": "b47f280c",
   "metadata": {},
   "outputs": [
    {
     "data": {
      "image/png": "[encoded data removed]",
      "text/plain": [
       "<Figure size 1440x720 with 1 Axes>"
      ]
     },
     "metadata": {
      "needs_background": "light"
     },
     "output_type": "display_data"
    }
   ],
   "source": [
    "plt.figure(figsize=(20, 10))\n",
    "plot_tree(dt_model, feature_names=X_train.columns, filled = True);\n",
    "\n",
    "#plt.savefig('destination_path.eps', format='eps', dpi=1000) "
   ]
  },
  {
   "cell_type": "code",
   "execution_count": 86,
   "id": "9ea6bd97",
   "metadata": {
    "scrolled": false
   },
   "outputs": [
    {
     "data": {
      "image/png": "[encoded data removed]",
      "text/plain": [
       "<Figure size 1440x720 with 1 Axes>"
      ]
     },
     "metadata": {
      "needs_background": "light"
     },
     "output_type": "display_data"
    }
   ],
   "source": [
    "plt.figure(figsize=(20, 10))\n",
    "plot_tree(dt_model, feature_names=X_train.columns, filled = True, max_depth=3);"
   ]
  },
  {
   "cell_type": "code",
   "execution_count": 95,
   "id": "19e73031",
   "metadata": {
    "scrolled": true
   },
   "outputs": [
    {
     "data": {
      "text/plain": [
       "array([0.06724072, 0.18172519, 0.        , 0.        , 0.        ,\n",
       "       0.        , 0.        , 0.        , 0.        , 0.00909882,\n",
       "       0.        , 0.        , 0.        , 0.02912584, 0.2716669 ,\n",
       "       0.        , 0.44114253])"
      ]
     },
     "execution_count": 95,
     "metadata": {},
     "output_type": "execute_result"
    }
   ],
   "source": [
    "dt_model.feature_importances_"
   ]
  },
  {
   "cell_type": "code",
   "execution_count": 89,
   "id": "1cc26ff2",
   "metadata": {
    "scrolled": false
   },
   "outputs": [
    {
     "data": {
      "image/png": "[encoded data removed]",
      "text/plain": [
       "<Figure size 432x288 with 1 Axes>"
      ]
     },
     "metadata": {
      "needs_background": "light"
     },
     "output_type": "display_data"
    }
   ],
   "source": [
    "index = feature_names_for_stand\n",
    "values = dt_model.feature_importances_\n",
    "plt.bar(index,values)\n",
    "plt.xticks(rotation=90)\n",
    "plt.show()"
   ]
  },
  {
   "cell_type": "code",
   "execution_count": 144,
   "id": "583492d3",
   "metadata": {},
   "outputs": [
    {
     "name": "stdout",
     "output_type": "stream",
     "text": [
      "R2:\t-0.542\n",
      "RMSE:\t0.598\n",
      "MSE:\t0.357\n"
     ]
    }
   ],
   "source": [
    "rf_model = RandomForestClassifier(n_estimators=1, \n",
    "                                  criterion='gini', \n",
    "                                  max_depth=5, \n",
    "                                  min_samples_split=2, \n",
    "                                  min_samples_leaf=3, \n",
    "                                  min_weight_fraction_leaf=0.0, \n",
    "                                  max_features=3, \n",
    "                                  max_leaf_nodes=None, \n",
    "                                  bootstrap=True, \n",
    "                                  oob_score=False, \n",
    "                                  n_jobs=3, \n",
    "                                  random_state=None, \n",
    "                                  verbose=0, \n",
    "                                  warm_start=False, \n",
    "                                  class_weight=None)\n",
    "\n",
    "rf_model.fit(X_train, y_train)\n",
    "y_train_preds = rf_model.predict(X_train)\n",
    "evaluate_preds(y_train, y_train_preds)"
   ]
  },
  {
   "cell_type": "code",
   "execution_count": 145,
   "id": "e49b545d",
   "metadata": {},
   "outputs": [
    {
     "name": "stdout",
     "output_type": "stream",
     "text": [
      "[[2526   82]\n",
      " [1383  112]]\n"
     ]
    }
   ],
   "source": [
    "#y_train_preds = cross_val_predict(dt_model, X_train, y_train, cv=3)\n",
    "y_train_preds = rf_model.predict(X_train)\n",
    "print(confusion_matrix(y_train, y_train_preds))"
   ]
  },
  {
   "cell_type": "code",
   "execution_count": 146,
   "id": "ac8132e0",
   "metadata": {},
   "outputs": [
    {
     "name": "stdout",
     "output_type": "stream",
     "text": [
      "[[906 358]\n",
      " [518 239]]\n"
     ]
    }
   ],
   "source": [
    "y_test_preds = cross_val_predict(rf_model, X_test, y_test, cv=3)\n",
    "print(confusion_matrix(y_test, y_test_preds))"
   ]
  },
  {
   "cell_type": "code",
   "execution_count": 147,
   "id": "a575bbcd",
   "metadata": {
    "scrolled": true
   },
   "outputs": [
    {
     "data": {
      "text/plain": [
       "array([0.10756771, 0.17495088, 0.01620602, 0.05164848, 0.02758142,\n",
       "       0.0005934 , 0.00587591, 0.        , 0.025087  , 0.008884  ,\n",
       "       0.01856686, 0.        , 0.        , 0.        , 0.136578  ,\n",
       "       0.16221701, 0.26424331])"
      ]
     },
     "execution_count": 147,
     "metadata": {},
     "output_type": "execute_result"
    }
   ],
   "source": [
    "rf_model.feature_importances_"
   ]
  },
  {
   "cell_type": "code",
   "execution_count": 148,
   "id": "47e7f358",
   "metadata": {},
   "outputs": [
    {
     "data": {
      "image/png": "[encoded data removed]",
      "text/plain": [
       "<Figure size 432x288 with 1 Axes>"
      ]
     },
     "metadata": {
      "needs_background": "light"
     },
     "output_type": "display_data"
    }
   ],
   "source": [
    "index = feature_names_for_stand\n",
    "values = rf_model.feature_importances_\n",
    "plt.bar(index,values)\n",
    "plt.xticks(rotation=90)\n",
    "plt.show()"
   ]
  },
  {
   "cell_type": "code",
   "execution_count": 155,
   "id": "1b82c7fa",
   "metadata": {},
   "outputs": [
    {
     "name": "stdout",
     "output_type": "stream",
     "text": [
      "R2:\t-0.529\n",
      "RMSE:\t0.595\n",
      "MSE:\t0.354\n"
     ]
    }
   ],
   "source": [
    "clf = GradientBoostingClassifier(n_estimators=2, \n",
    "                                 learning_rate=1.0,\n",
    "                                 max_depth=3, \n",
    "                                 random_state=42)\n",
    "\n",
    "clf.fit(X_train, y_train)\n",
    "y_train_preds = clf.predict(X_train)\n",
    "evaluate_preds(y_train, y_train_preds)"
   ]
  },
  {
   "cell_type": "code",
   "execution_count": 156,
   "id": "c4de67e1",
   "metadata": {},
   "outputs": [
    {
     "name": "stdout",
     "output_type": "stream",
     "text": [
      "[[2573   35]\n",
      " [1418   77]]\n"
     ]
    }
   ],
   "source": [
    "#y_train_preds = cross_val_predict(dt_model, X_train, y_train, cv=3)\n",
    "y_train_preds = clf.predict(X_train)\n",
    "print(confusion_matrix(y_train, y_train_preds))"
   ]
  },
  {
   "cell_type": "code",
   "execution_count": 157,
   "id": "dca24480",
   "metadata": {},
   "outputs": [
    {
     "name": "stdout",
     "output_type": "stream",
     "text": [
      "[[1130  134]\n",
      " [ 635  122]]\n"
     ]
    }
   ],
   "source": [
    "y_test_preds = cross_val_predict(clf, X_test, y_test, cv=3)\n",
    "print(confusion_matrix(y_test, y_test_preds))"
   ]
  },
  {
   "cell_type": "code",
   "execution_count": 158,
   "id": "50c59c97",
   "metadata": {},
   "outputs": [
    {
     "data": {
      "image/png": "[encoded data removed]",
      "text/plain": [
       "<Figure size 432x288 with 1 Axes>"
      ]
     },
     "metadata": {
      "needs_background": "light"
     },
     "output_type": "display_data"
    }
   ],
   "source": [
    "index = feature_names_for_stand\n",
    "values = clf.feature_importances_\n",
    "plt.bar(index,values)\n",
    "plt.xticks(rotation=90)\n",
    "plt.show()"
   ]
  }
 ],
 "metadata": {
  "interpreter": {
   "hash": "63fd5069d213b44bf678585dea6b12cceca9941eaf7f819626cde1f2670de90d"
  },
  "kernelspec": {
   "display_name": "Python 3",
   "language": "python",
   "name": "python3"
  },
  "language_info": {
   "codemirror_mode": {
    "name": "ipython",
    "version": 3
   },
   "file_extension": ".py",
   "mimetype": "text/x-python",
   "name": "python",
   "nbconvert_exporter": "python",
   "pygments_lexer": "ipython3",
   "version": "3.9.5"
  }
 },
 "nbformat": 4,
 "nbformat_minor": 5
}
